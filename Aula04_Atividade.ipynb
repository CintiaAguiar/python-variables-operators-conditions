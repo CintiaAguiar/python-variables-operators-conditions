{
  "nbformat": 4,
  "nbformat_minor": 0,
  "metadata": {
    "colab": {
      "provenance": [],
      "authorship_tag": "ABX9TyP6tZUvqOom9BPLhGWj6Kwp",
      "include_colab_link": true
    },
    "kernelspec": {
      "name": "python3",
      "display_name": "Python 3"
    },
    "language_info": {
      "name": "python"
    }
  },
  "cells": [
    {
      "cell_type": "markdown",
      "metadata": {
        "id": "view-in-github",
        "colab_type": "text"
      },
      "source": [
        "<a href=\"https://colab.research.google.com/github/CintiaAguiar/python-variables-operators-conditions/blob/main/Aula04_Atividade.ipynb\" target=\"_parent\"><img src=\"https://colab.research.google.com/assets/colab-badge.svg\" alt=\"Open In Colab\"/></a>"
      ]
    },
    {
      "cell_type": "markdown",
      "source": [
        "# **Variáveis, operadores e estruturas condicionais**"
      ],
      "metadata": {
        "id": "OMqaiExGw1R7"
      }
    },
    {
      "cell_type": "code",
      "source": [
        "numero = 5\n",
        "print(numero)\n",
        "print(type(numero))"
      ],
      "metadata": {
        "colab": {
          "base_uri": "https://localhost:8080/"
        },
        "id": "QnJ-GvmMw3-Z",
        "outputId": "b913c99e-ebee-4976-cf3e-905ffd72b3fc"
      },
      "execution_count": 1,
      "outputs": [
        {
          "output_type": "stream",
          "name": "stdout",
          "text": [
            "5\n",
            "<class 'int'>\n"
          ]
        }
      ]
    },
    {
      "cell_type": "code",
      "source": [
        "bebida_favorita = \"Chopp\"\n",
        "print(bebida_favorita)\n",
        "print(type(bebida_favorita))\n",
        "\n",
        "bebida_preco = 8.99\n",
        "print(bebida_preco)\n",
        "print(type(bebida_preco))\n",
        "\n",
        "bebida_alcoolica = False\n",
        "print(bebida_alcoolica)\n",
        "print(type(bebida_alcoolica))\n",
        "\n",
        "print(\"Minha bebida favorita é \" + str(bebida_favorita) + \" e custa R$\" + str(bebida_preco))"
      ],
      "metadata": {
        "colab": {
          "base_uri": "https://localhost:8080/"
        },
        "id": "CO5eh4cKxUYp",
        "outputId": "bd27353a-66ae-49c5-b5c8-bafcd69e67a8"
      },
      "execution_count": 2,
      "outputs": [
        {
          "output_type": "stream",
          "name": "stdout",
          "text": [
            "Chopp\n",
            "<class 'str'>\n",
            "8.99\n",
            "<class 'float'>\n",
            "False\n",
            "<class 'bool'>\n",
            "Minha bebida favorita é Chopp e custa R$8.99\n"
          ]
        }
      ]
    },
    {
      "cell_type": "code",
      "source": [
        "almoco_preferido = \"Risoto de Filé Mignon com Alho Poró\"\n",
        "valor_refeicao = 49.90\n",
        "valor_bebida = 10.50\n",
        "orcamento = 70\n",
        "\n",
        "total = valor_refeicao + valor_bebida\n",
        "print(\"O total do meu almoço foi de R$\", total)\n",
        "\n",
        "saldo_final = orcamento - total\n",
        "print(\"O saldo final do meu orçamento é de R${:.2f}\".format(saldo_final))"
      ],
      "metadata": {
        "colab": {
          "base_uri": "https://localhost:8080/"
        },
        "id": "B4zpi8gr4ezq",
        "outputId": "ce9fc7e3-2708-44ed-a1c4-4c453c332de0"
      },
      "execution_count": 17,
      "outputs": [
        {
          "output_type": "stream",
          "name": "stdout",
          "text": [
            "O total do meu almoço foi de R$ 60.4\n",
            "O saldo final do meu orçamento é de R$9.60\n"
          ]
        }
      ]
    },
    {
      "cell_type": "code",
      "source": [
        "if (orcamento >= total):\n",
        "  print(\"Você está com dinheiro\")\n",
        "else:\n",
        "  print(\"Você está sem dinheiro\")"
      ],
      "metadata": {
        "colab": {
          "base_uri": "https://localhost:8080/"
        },
        "id": "zzp9TTPHBdIy",
        "outputId": "c7aba2e7-56b0-41b1-9179-6d13862a0082"
      },
      "execution_count": 19,
      "outputs": [
        {
          "output_type": "stream",
          "name": "stdout",
          "text": [
            "Você está com dinheiro\n"
          ]
        }
      ]
    }
  ]
}